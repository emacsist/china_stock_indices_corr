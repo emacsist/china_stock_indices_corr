{
 "cells": [
  {
   "cell_type": "code",
   "execution_count": 1,
   "metadata": {},
   "outputs": [
    {
     "data": {
      "text/html": [
       "<div>\n",
       "<style scoped>\n",
       "    .dataframe tbody tr th:only-of-type {\n",
       "        vertical-align: middle;\n",
       "    }\n",
       "\n",
       "    .dataframe tbody tr th {\n",
       "        vertical-align: top;\n",
       "    }\n",
       "\n",
       "    .dataframe thead th {\n",
       "        text-align: right;\n",
       "    }\n",
       "</style>\n",
       "<table border=\"1\" class=\"dataframe\">\n",
       "  <thead>\n",
       "    <tr style=\"text-align: right;\">\n",
       "      <th></th>\n",
       "      <th>上证收盘</th>\n",
       "      <th>上证50收盘</th>\n",
       "      <th>创业板收盘</th>\n",
       "      <th>沪深300收盘</th>\n",
       "    </tr>\n",
       "  </thead>\n",
       "  <tbody>\n",
       "    <tr>\n",
       "      <th>上证收盘</th>\n",
       "      <td>1.000000</td>\n",
       "      <td>0.824642</td>\n",
       "      <td>0.812264</td>\n",
       "      <td>0.925491</td>\n",
       "    </tr>\n",
       "    <tr>\n",
       "      <th>上证50收盘</th>\n",
       "      <td>0.824642</td>\n",
       "      <td>1.000000</td>\n",
       "      <td>0.633652</td>\n",
       "      <td>0.970016</td>\n",
       "    </tr>\n",
       "    <tr>\n",
       "      <th>创业板收盘</th>\n",
       "      <td>0.812264</td>\n",
       "      <td>0.633652</td>\n",
       "      <td>1.000000</td>\n",
       "      <td>0.722281</td>\n",
       "    </tr>\n",
       "    <tr>\n",
       "      <th>沪深300收盘</th>\n",
       "      <td>0.925491</td>\n",
       "      <td>0.970016</td>\n",
       "      <td>0.722281</td>\n",
       "      <td>1.000000</td>\n",
       "    </tr>\n",
       "  </tbody>\n",
       "</table>\n",
       "</div>"
      ],
      "text/plain": [
       "             上证收盘    上证50收盘     创业板收盘   沪深300收盘\n",
       "上证收盘     1.000000  0.824642  0.812264  0.925491\n",
       "上证50收盘   0.824642  1.000000  0.633652  0.970016\n",
       "创业板收盘    0.812264  0.633652  1.000000  0.722281\n",
       "沪深300收盘  0.925491  0.970016  0.722281  1.000000"
      ]
     },
     "execution_count": 1,
     "metadata": {},
     "output_type": "execute_result"
    }
   ],
   "source": [
    "%matplotlib inline\n",
    "\n",
    "import matplotlib as mpl \n",
    "import matplotlib.pyplot as plt \n",
    "import numpy as np\n",
    "import pandas as pd\n",
    "import seaborn as sns\n",
    "from functools import reduce\n",
    "\n",
    "plt.rcParams['font.sans-serif'] = ['Arial Unicode MS'] \n",
    "mpl.rcParams[\"axes.unicode_minus\"] = False\n",
    "\n",
    "df000001 = pd.read_csv(\"000001.csv.ok\", parse_dates=True, index_col='日期')[['名称', '收盘价']]\n",
    "df000016 = pd.read_csv(\"000016.csv.ok\", parse_dates=True, index_col='日期')[['名称', '收盘价']]\n",
    "df399006 = pd.read_csv(\"399006.csv.ok\", parse_dates=True, index_col='日期')[['名称', '收盘价']]\n",
    "df399300 = pd.read_csv(\"399300.csv.ok\", parse_dates=True, index_col='日期')[['名称', '收盘价']]\n",
    "\n",
    "dfs = [df000001, df000016, df399006, df399300]\n",
    "\n",
    "df_final = reduce(lambda left,right: pd.merge(left,right,left_index=True, right_index=True), dfs)\n",
    "\n",
    "df_final.columns = ['上证指数', '上证收盘', '上证50', '上证50收盘', '创业板', '创业板收盘', '沪深300', '沪深300收盘']\n",
    "\n",
    "df_final[[col for col in df_final.columns if col.endswith('收盘')]].corr()"
   ]
  },
  {
   "cell_type": "code",
   "execution_count": 4,
   "metadata": {},
   "outputs": [
    {
     "data": {
      "text/plain": [
       "<matplotlib.axes._subplots.AxesSubplot at 0x1a206ea110>"
      ]
     },
     "execution_count": 4,
     "metadata": {},
     "output_type": "execute_result"
    },
    {
     "data": {
      "image/png": "[encoded data removed]",
      "text/plain": [
       "<Figure size 936x720 with 2 Axes>"
      ]
     },
     "metadata": {
      "needs_background": "light"
     },
     "output_type": "display_data"
    }
   ],
   "source": [
    "# 可视化\n",
    "plt.figure(figsize=(13,10))\n",
    "sns.heatmap(\n",
    "    df_final[[col for col in df_final.columns if col.endswith('收盘')]].corr(),\n",
    "    square=True, linewidths=.5,\n",
    "    annot=True, center=0.5, cmap = 'GnBu'\n",
    ")"
   ]
  },
  {
   "cell_type": "code",
   "execution_count": null,
   "metadata": {},
   "outputs": [],
   "source": []
  }
 ],
 "metadata": {
  "kernelspec": {
   "display_name": "Python 3",
   "language": "python",
   "name": "python3"
  },
  "language_info": {
   "codemirror_mode": {
    "name": "ipython",
    "version": 3
   },
   "file_extension": ".py",
   "mimetype": "text/x-python",
   "name": "python",
   "nbconvert_exporter": "python",
   "pygments_lexer": "ipython3",
   "version": "3.7.6"
  }
 },
 "nbformat": 4,
 "nbformat_minor": 4
}
